{
  "cells": [
    {
      "cell_type": "code",
      "execution_count": null,
      "id": "2cd9c12f-6c4f-40d1-a1be-590ce7de681f",
      "metadata": {},
      "outputs": [],
      "source": [
        "import os\n",
        "import glob\n",
        "import torch\n",
        "import ast\n",
        "import numpy as np\n",
        "import pandas as pd\n",
        "from tqdm import tqdm, trange\n",
        "from torch.utils.data import Dataset, DataLoader, IterableDataset"
      ]
    },
    {
      "cell_type": "code",
      "execution_count": null,
      "id": "a84cc789-28c3-46e0-9c7e-8acc4b182afe",
      "metadata": {
        "tags": []
      },
      "outputs": [],
      "source": [
        "class KoBARTSummaryDataset(Dataset):\n",
        "    def __init__(self, file, tok, max_len, pad_index = 0, ignore_index=-100):\n",
        "        super().__init__()\n",
        "        self.tok = tok\n",
        "        self.max_len = max_len\n",
        "        self.docs = pd.read_csv(file, sep='\\t', error_bad_lines=False, encoding='UTF-8')\n",
        "        self.docs = self.docs.dropna()\n",
        "        self.len = self.docs.shape[0]\n",
        "        self.pad_index = pad_index\n",
        "        self.ignore_index = ignore_index        \n",
        "        print(self.docs.shape[0])\n",
        "        \n",
        "    # �����Ϳ� pad �߰�\n",
        "    def add_padding_data(self, inputs):\n",
        "        if len(inputs) < self.max_len:\n",
        "            pad = np.array([self.pad_index] *(self.max_len - len(inputs)))\n",
        "            inputs = np.concatenate([inputs, pad])\n",
        "        else:\n",
        "            inputs = inputs[:self.max_len]\n",
        "\n",
        "        return inputs\n",
        "\n",
        "    # ���ڴ��� �����Ϳ� ignore ������ �߰�\n",
        "    def add_ignored_data(self, inputs):\n",
        "        if len(inputs) < self.max_len:\n",
        "            pad = np.array([self.ignore_index] *(self.max_len - len(inputs)))\n",
        "            inputs = np.concatenate([inputs, pad])\n",
        "        else:\n",
        "            inputs = inputs[:self.max_len]\n",
        "\n",
        "        return inputs\n",
        "    \n",
        "    # ���ڴ� input, ���ڴ� input, label�� ���� �� ����\n",
        "    def __getitem__(self, idx):\n",
        "        instance = self.docs.iloc[idx]\n",
        "        input_ids = self.tok.encode(instance['kr'])\n",
        "        input_ids = self.add_padding_data(input_ids)\n",
        "\n",
        "        label_ids = self.tok.encode(instance['en'])        \n",
        "        label_ids.append(self.tok.eos_token_id)\n",
        "        dec_input_ids = [self.pad_index]\n",
        "        dec_input_ids += label_ids[:-1]\n",
        "        dec_input_ids = self.add_padding_data(dec_input_ids)\n",
        "        label_ids = self.add_ignored_data(label_ids)\n",
        "\n",
        "#         return (torch.tensor(input_ids),\n",
        "#                 torch.tensor(dec_input_ids),\n",
        "#                 torch.tensor(label_ids))\n",
        "        return {'input_ids': np.array(input_ids, dtype=np.int_),\n",
        "                'decoder_input_ids': np.array(dec_input_ids, dtype=np.int_),\n",
        "                'labels': np.array(label_ids, dtype=np.int_)}\n",
        "    \n",
        "    def __len__(self):\n",
        "        return self.len"
      ]
    },
    {
      "cell_type": "code",
      "execution_count": null,
      "id": "4b6af7ce-e078-4176-be55-8dc17ad7ffce",
      "metadata": {},
      "outputs": [],
      "source": []
    }
  ],
  "metadata": {
    "kernelspec": {
      "display_name": "kobart_py38",
      "language": "python",
      "name": "kobart_py38"
    },
    "language_info": {
      "codemirror_mode": {
        "name": "ipython",
        "version": 3
      },
      "file_extension": ".py",
      "mimetype": "text/x-python",
      "name": "python",
      "nbconvert_exporter": "python",
      "pygments_lexer": "ipython3",
      "version": "3.8.16"
    }
  },
  "nbformat": 4,
  "nbformat_minor": 5
}
