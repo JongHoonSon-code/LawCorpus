{
 "cells": [
  {
   "cell_type": "code",
   "execution_count": 25,
   "id": "3628f795-77d1-48fb-9ab5-d7345117253e",
   "metadata": {},
   "outputs": [],
   "source": [
    "import os\n",
    "os.environ[\"CUDA_DEVICE_ORDER\"]=\"PCI_BUS_ID\"  # Arrange GPU devices starting from 0\n",
    "os.environ[\"CUDA_VISIBLE_DEVICES\"]= \"1\"  # Set the GPU 1 to use\n",
    "import torch\n",
    "from kobart import get_kobart_tokenizer\n",
    "from transformers.models.bart import BartForConditionalGeneration\n",
    "import re"
   ]
  },
  {
   "cell_type": "code",
   "execution_count": 2,
   "id": "6baf4849-de8a-4c87-bfca-3f91503f4d85",
   "metadata": {},
   "outputs": [],
   "source": [
    "DEVICE = torch.device(\"cuda\" if torch.cuda.is_available() else \"cpu\")"
   ]
  },
  {
   "cell_type": "code",
   "execution_count": 3,
   "id": "35edaead-3049-4578-aee3-b6740f8f6aa9",
   "metadata": {},
   "outputs": [],
   "source": [
    "def load_model(path):\n",
    "    model = BartForConditionalGeneration.from_pretrained(path)\n",
    "    return model"
   ]
  },
  {
   "cell_type": "code",
   "execution_count": 4,
   "id": "9c56c636-06f7-4613-a026-949c92e6ac31",
   "metadata": {},
   "outputs": [
    {
     "name": "stdout",
     "output_type": "stream",
     "text": [
      "using cached model. /etc/jupyterhub/pythonex/Paper_2023/KoBART/.cache/kobart_base_tokenizer_cased_cf74400bce.zip\n"
     ]
    }
   ],
   "source": [
    "model = load_model('/etc/jupyterhub/pythonex/Paper_2023/KoBART/model')\n",
    "model = model.to(DEVICE)\n",
    "tokenizer = get_kobart_tokenizer()"
   ]
  },
  {
   "cell_type": "code",
   "execution_count": 141,
   "id": "d8bcacc9-17c4-4839-8be5-143d8f0b6754",
   "metadata": {
    "tags": [],
    "toc-hr-collapsed": true
   },
   "outputs": [],
   "source": [
    "reg_del = re.compile('\\([a-zA-Z]{1}')\n",
    "reg_sp = re.compile('\\(')\n",
    "reg_ep = re.compile('\\)')\n",
    "reg_headnum = re.compile('[\\d+]\\.|\\(+\\d+\\)+')\n",
    "def after_proc(text):    \n",
    "    print(text)\n",
    "    temp = text.split();        \n",
    "    if (len(temp[0]) == 1 and temp[0] != 'I' and temp[0] != 'A' or temp[0].isdigit() or reg_headnum.search(temp[0]) != None ):\n",
    "        print(1)\n",
    "        text = ' '.join(temp[1:])\n",
    "        text = after_proc(text)            \n",
    "        temp = text.split()\n",
    "    \n",
    "    if (reg_del.search(temp[0]) != None and len(reg_sp.findall(text)) != len(reg_ep.findall(text)) ):\n",
    "        print(len(reg_sp.findall(text)), len(reg_ep.findall(text)))\n",
    "        #text = f'{temp[0]} {temp[1].replace(\"(\", \"\")} {\" \".join(temp[2:])}'\n",
    "        text = f'{temp[0].replace(\"(\", \"\")} {\" \".join(temp[1:])}'\n",
    "        temp = text.split()\n",
    "        print(text)        \n",
    "        \n",
    "    if (temp[1].find(temp[0]) == 0) :        \n",
    "        print(2)\n",
    "        text = ' '.join(temp[1:])  \n",
    "        temp = text.split()\n",
    "    \n",
    "    if (' '.join(temp[2:4]).find(' '.join(temp[0:2])) ==0) :        \n",
    "        print(3)\n",
    "        text = ' '.join(temp[2:])  \n",
    "    \n",
    "    return text\n",
    "\n",
    "reg_hang = re.compile('^[①②③④⑤⑥⑦⑧⑨⑩⑪⑫⑬⑭⑮⑯⑰⑱⑲⑳㉑㉒㉓㉔㉕㉖㉗㉘㉙㉚]|^\\([\\d]{1,2}\\)')\n",
    "reg_ho= re.compile('^\\d+\\.|^\\d+\\.')\n",
    "reg_mog = re.compile('^[가-호]{1}\\.|^\\([a-zA-Z]\\)')\n",
    "headnum_dict = {}\n",
    "def create_headnum_dic():\n",
    "    headnum_dict['①'] = '(1)'\n",
    "    headnum_dict['②'] = '(2)'\n",
    "    headnum_dict['③'] = '(3)'\n",
    "    headnum_dict['④'] = '(4)'\n",
    "    headnum_dict['⑤'] = '(5)'\n",
    "    headnum_dict['⑥'] = '(6)'\n",
    "    headnum_dict['⑦'] = '(7)'\n",
    "    headnum_dict['⑧'] = '(8)'\n",
    "    headnum_dict['⑨'] = '(9)'\n",
    "    headnum_dict['⑩'] = '(10)'\n",
    "    headnum_dict['⑪'] = '(11)'\n",
    "    headnum_dict['⑫'] = '(12)'\n",
    "    headnum_dict['⑬'] = '(13)'\n",
    "    headnum_dict['⑭'] = '(14)'\n",
    "    headnum_dict['⑮'] = '(15)'\n",
    "    headnum_dict['⑯'] = '(16)'\n",
    "    headnum_dict['⑰'] = '(17)'\n",
    "    headnum_dict['⑱'] = '(18)'\n",
    "    headnum_dict['⑲'] = '(19)'\n",
    "    headnum_dict['⑳'] = '(20)'\n",
    "    headnum_dict['㉑'] = '(21)'\n",
    "    headnum_dict['㉒'] = '(22)'\n",
    "    headnum_dict['㉓'] = '(23)'\n",
    "    headnum_dict['㉔'] = '(24)'\n",
    "    headnum_dict['㉕'] = '(25)'\n",
    "    headnum_dict['㉖'] = '(26)'\n",
    "    headnum_dict['㉗'] = '(27)'\n",
    "    headnum_dict['㉘'] = '(28)'\n",
    "    headnum_dict['㉙'] = '(29)'\n",
    "    headnum_dict['㉚'] = '(30)'\n",
    "    headnum_dict['가.'] = '(a)'\n",
    "    headnum_dict['나.'] = '(b)'\n",
    "    headnum_dict['다.'] = '(c)'\n",
    "    headnum_dict['라.'] = '(d)'\n",
    "    headnum_dict['마.'] = '(e)'\n",
    "    headnum_dict['바.'] = '(f)'\n",
    "    headnum_dict['사.'] = '(g)'\n",
    "    headnum_dict['아.'] = '(h)'\n",
    "    headnum_dict['자.'] = '(i)'\n",
    "    headnum_dict['차.'] = '(j)'\n",
    "    headnum_dict['카.'] = '(k)'\n",
    "    headnum_dict['타.'] = '(l)'\n",
    "    headnum_dict['파.'] = '(m)'\n",
    "    headnum_dict['하.'] = '(n)'\n",
    "    headnum_dict['거.'] = '(o)'\n",
    "    headnum_dict['너.'] = '(p)'\n",
    "    headnum_dict['더.'] = '(q)'\n",
    "    headnum_dict['러.'] = '(r)'\n",
    "    headnum_dict['머.'] = '(s)'\n",
    "    headnum_dict['버.'] = '(t)'\n",
    "    headnum_dict['서.'] = '(u)'\n",
    "    headnum_dict['어.'] = '(v)'\n",
    "    headnum_dict['저.'] = '(w)'\n",
    "    headnum_dict['처.'] = '(x)'\n",
    "    headnum_dict['커.'] = '(y)'\n",
    "    headnum_dict['터.'] = '(z)'\n",
    "    headnum_dict['퍼.'] = '(A)'\n",
    "    headnum_dict['허.'] = '(B)'\n",
    "\n",
    "   \n",
    "create_headnum_dic()\n",
    "    \n",
    "def check_headnum(org, mean, reg, reg_type):    \n",
    "    s_match = reg.search(org)    \n",
    "    if (s_match != None) :\n",
    "        t_match = reg.search(mean)\n",
    "        if (t_match == None) :\n",
    "            if(reg_type == 0):\n",
    "                mean = f'{s_match.group()} {mean}'\n",
    "            else:\n",
    "                if(s_match.group() in headnum_dict):                    \n",
    "                    mean = f'{headnum_dict[s_match.group()]} {mean}'                    \n",
    "    return mean\n",
    "    "
   ]
  },
  {
   "cell_type": "code",
   "execution_count": 151,
   "id": "91386edb-997b-451f-a062-b7b284703935",
   "metadata": {},
   "outputs": [],
   "source": [
    "def translate(text):\n",
    "    if text == '' or text == None :\n",
    "        return '번역할 문장이 없습니다.'    \n",
    "    input_ids = tokenizer.encode(text)\n",
    "    input_ids = torch.tensor(input_ids)\n",
    "    input_ids = input_ids.unsqueeze(0).to(DEVICE)    \n",
    "    output = model.generate(input_ids, eos_token_id=1, max_length=512, num_beams=5).to(DEVICE)    \n",
    "    output = tokenizer.decode(output[0], skip_special_tokens=True)    \n",
    "    output = after_proc(output)\n",
    "    output = output[0].upper() + output[1:]\n",
    "    output = check_headnum(text, output, reg_ho, 0)\n",
    "    output = check_headnum(text, output, reg_hang, 1)\n",
    "    output = check_headnum(text, output, reg_mog, 1)\n",
    "    \n",
    "    return output"
   ]
  },
  {
   "cell_type": "code",
   "execution_count": null,
   "id": "56d232ba-d92a-4196-9cd0-5df3053cce03",
   "metadata": {},
   "outputs": [],
   "source": [
    "tok = get_kobart_tokenizer()"
   ]
  },
  {
   "cell_type": "code",
   "execution_count": 162,
   "id": "3ce50ca1-4a2e-4297-b278-3790022585a7",
   "metadata": {},
   "outputs": [
    {
     "name": "stdout",
     "output_type": "stream",
     "text": [
      "In a In a lawsuit for claiming the division of co-owned property, which is an essential joint litigation, whether or not the entire litigation becomes inappropriate if one of the joint litigants has flaws in the litigation requirements (affirmative)\n",
      "3\n",
      "In a lawsuit for claiming the division of co-owned property, which is an essential joint litigation, whether or not the entire litigation becomes inappropriate if one of the joint litigants has flaws in the litigation requirements (affirmative)\n"
     ]
    }
   ],
   "source": [
    "#print(translate('⑤ 건널목 개량촉진법 일부를 다음과 같이 개정한다.'))\n",
    "#print(translate('3. “피4해종교단체”란 10ㆍ27법난으로 인하여 종교적 존엄성과 명예를 훼손당한 대한불교 조계종 및 10ㆍ27법난 당시 피해자가 소속된 사찰을 말한다.'))\n",
    "#print(translate('③ 위원회는 위원장을 포함한 11인 이내의 위원으로 구성한다.'))\n",
    "#print(translate('② 제1항에 따라 의료지원금을 반환할 자가 해당 금액을 반환하지 아니한 때에는 국세 체납처분의 예에 따른다.'))\n",
    "#print(translate('③ 개량건널목의 지정기준에 관하여 필요한 사항은 대통령령으로 정한다.'))\n",
    "print(translate('필수적 공동소송인 공유물분할청구소송에서, 공동소송인 중 1인에 소송요건의 흠이 있으면 전체 소송이 부적법하게 되는지 여부(적극)'))\n",
    "#print(translate('11. 고용보험기금의 운용 및 재산 등의 관리'))"
   ]
  },
  {
   "cell_type": "code",
   "execution_count": 155,
   "id": "1cda87c9-d2b1-4012-8afc-7f9252958f5f",
   "metadata": {},
   "outputs": [
    {
     "name": "stdout",
     "output_type": "stream",
     "text": [
      "tensor([[14326, 27586,   248, 12178, 12147,   251, 13603, 14030, 18690, 14283,\n",
      "         10326, 14027, 29445, 14909,   233, 15548, 14028, 27614, 15983, 10675,\n",
      "         14280, 15733, 10675,   239, 28788, 15056, 16442,  9120, 27101, 14330,\n",
      "         29269, 14374, 15794, 16728, 15213, 18275, 16960, 14461, 16671, 15570,\n",
      "         14461, 17769, 13594, 19963, 20877, 14343, 14039, 11724, 19191, 14025,\n",
      "         14577, 14030, 14050, 12080, 12819,  9990,  8981, 11724, 10001,   233,\n",
      "         14096, 16501, 16352, 14654, 12024, 15218, 15243, 14653, 16859, 15364,\n",
      "         12024, 22744, 10326, 14027, 29445, 14164,  8981, 11224,  8982, 11028,\n",
      "         11224,  9770, 17467,  1700, 11067, 14374, 18520, 14130]],\n",
      "       device='cuda:0')\n",
      "input_ids====================\n",
      "tensor([[    2, 29672, 18090, 14879,   308, 14050,   308,   300, 16160, 20223,\n",
      "         17065,   313, 15972,   298, 22720,   297, 17752, 19306,   320, 15073,\n",
      "           313, 15972, 18509, 15265, 15555, 15585, 15529, 28397, 16651,   300,\n",
      "           233, 22692, 14603,   313, 26077, 16203, 25958, 14338, 20640, 19524,\n",
      "         21235, 14603, 22648, 19281,   300, 15195,   314, 21235, 19281,   300,\n",
      "         16160, 20223, 17065,   313, 15972,   298, 22720,   297, 17752, 19306,\n",
      "           320, 15073,   313, 15972, 18509, 15265, 15555, 15585, 15529, 28397,\n",
      "         16651,   300, 22692, 14603,   313, 26077, 16203, 25958, 14338, 20640,\n",
      "         19524, 21235, 14603, 22648,   243, 14050,   308,   300, 16160, 20223,\n",
      "         17065,   313, 15972,   298, 22720,   297, 17752, 19306,   320, 15073,\n",
      "           313, 15972, 18509, 15265, 15555, 15585, 15529, 28397, 16651,   300,\n",
      "           233, 19281,   300, 15195,   314, 21235,  1700, 17941,   310, 17005,\n",
      "           315, 20041, 23988, 28597, 15585, 16884, 27141, 18785, 29686, 16651,\n",
      "           298,   304, 19334, 20041,   319,   311, 15265,   314, 15972, 17065,\n",
      "           313, 15972,   298, 22720,   297, 17752, 19306,   320, 16424,   313,\n",
      "           299, 14885, 15195, 22038, 19524, 21235, 14759, 14885, 24345,   313,\n",
      "           320, 19524, 26766,   313, 22409,   302,   320, 24536, 15418, 14885,\n",
      "         15195, 22038, 17254,   313, 17762, 21235, 22692, 17510, 15585, 17422,\n",
      "         16802, 18785, 22409, 19524, 18317, 16160, 14879, 17254, 18377, 17761,\n",
      "           304, 15555, 15972, 24536,  1700, 17510,   313,   316, 22648, 19512,\n",
      "         15972, 14338, 23795,   298,   307,   316,   299, 17163, 21235,  1700,\n",
      "         19542,   314, 22873, 19113, 19524, 25674, 19465,  1700, 15463, 19306,\n",
      "           316, 17761,   299, 17163,   314, 22692, 22911, 25674, 22549,   311,\n",
      "         18482, 22549,   240, 27141, 19306,   300, 16637, 14889, 17510,   313,\n",
      "           316, 22648, 17752,  1700, 15463,  1700, 16651, 18377, 23988,   304,\n",
      "         16651,   299, 14338,   303, 14879, 26502,   301, 21569,  1700, 16651,\n",
      "           301, 14879, 16651,   299, 27141,  1700, 19542, 14050, 16651, 18377,\n",
      "         23988, 15868,   304, 16802, 20290, 15585, 28171,   243,  1700, 17463,\n",
      "           298, 16314, 22692, 19133, 15868, 17065, 15562, 19650,   313, 20924,\n",
      "           303, 14505, 18482, 27448,   315,   313, 18377,   315, 17163, 21235,\n",
      "          1700, 17941,   310, 17005,   315, 20041, 23988, 28597, 15585, 16884,\n",
      "         27141, 18785, 29686, 16651,   298,   304, 19334, 20041,   319,   311,\n",
      "         15265,   314, 15972, 17065,   313, 15972,   298, 22720,   297, 17752,\n",
      "         19306,   320, 16424,   313,   299, 14885, 15195, 22038, 19524, 21235,\n",
      "         14759, 14885, 24345,   313,   320, 19524, 26766,   313, 22409,   302,\n",
      "           320, 24536, 15418, 14885, 15195, 22038, 17254,   313, 17762, 21235,\n",
      "         18785, 22409, 19524, 22692, 17510, 15585, 17422, 16802, 27141, 21235,\n",
      "         19306,   296, 17223, 18785, 22409, 19524,  1700, 19542,   314, 22873,\n",
      "         19113,   245,     1]], device='cuda:0')\n",
      "output-1====================\n",
      "The term \"method prescribed by Presidential Decree\" in Article 61 (4) of the Act means the method prescribed by Presidential Decree in Article 61 (4) of the Act, \"method prescribed by Presidential Decree\" means the amount equivalent to depreciation expenses prescribed by Ordinance of the Ministry of Strategy and Finance from the installation date of other facilities and structures (excluding the assessment of land or buildings in a lump sum) to be constructed or reacquired (hereafter referred to as \"reacquisition value, etc.\" in this paragraph), subtracting the amount equivalent to depreciation expenses prescribed by Ordinance of the Ministry of Strategy and Finance from the date of installation to the base date of assessment.\n",
      "output-2====================\n"
     ]
    }
   ],
   "source": [
    "#text = '법 제61조제4항에서 \"대통령령으로 정하는 방법\"이란 그 밖의 시설물 및 구축물(토지 또는 건물과 일괄하여 평가하는 것을 제외한다)에 대하여 그것을 다시 건축하거나 다시 취득할 경우에 소요되는 가액(이하 이 항에서 \"재취득가액등\"이라 한다)에서 그것의 설치일부터 평가기준일까지의 기획재정부령으로 정하는 감가상각비상당액을 뺀 것을 말한다.'\n",
    "text = '법 제61조제4항에서 \"대통령령으로 정하는 방법\"이란 그 밖의 시설물 및 구축물(토지 또는 건물과 일괄하여 평가하는 것을 제외한다)에 대하여 그것을 다시 건축하거나 다시 취득할 경우에 소요되는 가액(이하 이 항에서 \"재취득가액등\"이라 한다)에서 그것의 설치일부터 평가기준일까지의 기획재정부령으로 정하는 감가상각비상당액을 뺀 것을 말한다.'\n",
    "input_ids = tokenizer.encode(text)\n",
    "input_ids = torch.tensor(input_ids)\n",
    "input_ids = input_ids.unsqueeze(0).to(DEVICE)\n",
    "print(input_ids)\n",
    "print('input_ids'+'='*20)\n",
    "output = model.generate(input_ids, eos_token_id=1, max_length=512, num_beams=5).to(DEVICE)\n",
    "print(output)\n",
    "print('output-1'+'='*20)\n",
    "output = tokenizer.decode(output[0], skip_special_tokens=True)\n",
    "print(output)\n",
    "print('output-2'+'='*20)"
   ]
  },
  {
   "cell_type": "code",
   "execution_count": 37,
   "id": "37cc2c62-4ad2-4eaa-9d4d-f4467512817d",
   "metadata": {},
   "outputs": [],
   "source": [
    "def translate(text):\n",
    "    if text == '' or text == None :\n",
    "        return '번역할 문장이 없습니다.'    \n",
    "    input_ids = tokenizer.encode(text)\n",
    "    input_ids = torch.tensor(input_ids)\n",
    "    input_ids = input_ids.unsqueeze(0).to(DEVICE)    \n",
    "    output = model.generate(input_ids, eos_token_id=1, max_length=512, num_beams=5).to(DEVICE)    \n",
    "    output = tokenizer.decode(output[0], skip_special_tokens=True)    \n",
    "    output = after_proc(output)\n",
    "    output = check_headnum(text, output, reg_ho, 0)\n",
    "    output = check_headnum(text, output, reg_hang, 1)\n",
    "    output = check_headnum(text, output, reg_mog, 1)\n",
    "    \n",
    "    return output"
   ]
  },
  {
   "cell_type": "code",
   "execution_count": 20,
   "id": "42ed9e90-e42d-4f08-a405-1f781cb0cdf7",
   "metadata": {},
   "outputs": [
    {
     "name": "stdout",
     "output_type": "stream",
     "text": [
      "using cached model. /etc/jupyterhub/pythonex/Paper_2023/KoBART/.cache/kobart_base_tokenizer_cased_cf74400bce.zip\n"
     ]
    }
   ],
   "source": [
    "tok = get_kobart_tokenizer()"
   ]
  },
  {
   "cell_type": "code",
   "execution_count": 130,
   "id": "e9999e16-161f-438f-9268-c71f278934f4",
   "metadata": {},
   "outputs": [
    {
     "name": "stdout",
     "output_type": "stream",
     "text": [
      "In a In a lawsuit for claiming the division of co-owned property, which is an essential joint litigation, whether or not the entire litigation becomes inappropriate if one of the joint litigants has flaws in the litigation requirements (affirmative)\n",
      "0\n",
      "In a In a lawsuit for claiming the division of co-owned property, which is an essential joint litigation, whether or not the entire litigation becomes inappropriate if one of the joint litigants has flaws in the litigation requirements (affirmative)\n"
     ]
    }
   ],
   "source": [
    "#print(translate('⑤ 건널목 개량촉진법 일부를 다음과 같이 개정한다.'))\n",
    "#print(translate('3. “피4해종교단체”란 10ㆍ27법난으로 인하여 종교적 존엄성과 명예를 훼손당한 대한불교 조계종 및 10ㆍ27법난 당시 피해자가 소속된 사찰을 말한다.'))\n",
    "#print(translate('③ 위원회는 위원장을 포함한 11인 이내의 위원으로 구성한다.'))\n",
    "#print(translate('② 제1항에 따라 의료지원금을 반환할 자가 해당 금액을 반환하지 아니한 때에는 국세 체납처분의 예에 따른다.'))\n",
    "#print(translate('③ 개량건널목의 지정기준에 관하여 필요한 사항은 대통령령으로 정한다.'))\n",
    "print(translate('필수적 공동소송인 공유물분할청구소송에서, 공동소송인 중 1인에 소송요건의 흠이 있으면 전체 소송이 부적법하게 되는지 여부(적극)'))"
   ]
  },
  {
   "cell_type": "code",
   "execution_count": 9,
   "id": "0eede21c-667b-4e89-b64a-ba71c9459234",
   "metadata": {},
   "outputs": [
    {
     "name": "stdout",
     "output_type": "stream",
     "text": [
      "tensor([[ 1700,  1834, 22130, 15997, 10840,  1835, 11786, 14302, 16270,  9908,\n",
      "         16378,  1286, 12681,  8982, 17405, 14635, 14923, 14049, 27839, 16135,\n",
      "          9264]], device='cuda:0')\n",
      "input_ids====================\n",
      "tensor([[    2, 16132,  1700, 16132,  1700, 17223,   315,   314, 22692, 22911,\n",
      "         21582, 17884, 17223,   303, 18192,   299, 20676,   303, 14879,   300,\n",
      "         22911, 17065, 27621, 14889, 20676,   304, 16160, 22911, 20290, 15868,\n",
      "           316, 27051,   320,  1700, 19732,   311,   296,   304, 16651,   299,\n",
      "          1700, 15463,  1700, 19001, 15562, 17163,  1700, 19732,   311,   296,\n",
      "           304, 16651,   299, 17065, 27621, 14889,  1700, 16651,   302, 15868,\n",
      "         21569, 17752, 17065, 19512,   314,   316, 15195,   315, 27141, 21235,\n",
      "         14603, 22648,  1700, 14889, 16996, 16997,   301, 15562,   300, 19524,\n",
      "         15073, 27621, 14889,   314, 20676,   304, 16160, 15529, 15868, 20775,\n",
      "         17761,   304, 15555, 15972, 25674, 28597, 15972,     1]],\n",
      "       device='cuda:0')\n",
      "output-1====================\n",
      "TV  TV sets in a household where a person with a visually impaired or hearing impaired person registered pursuant to the Act on Welfare of Persons with Disabilities lives\n",
      "output-2====================\n"
     ]
    }
   ],
   "source": [
    "#text = '법 제61조제4항에서 \"대통령령으로 정하는 방법\"이란 그 밖의 시설물 및 구축물(토지 또는 건물과 일괄하여 평가하는 것을 제외한다)에 대하여 그것을 다시 건축하거나 다시 취득할 경우에 소요되는 가액(이하 이 항에서 \"재취득가액등\"이라 한다)에서 그것의 설치일부터 평가기준일까지의 기획재정부령으로 정하는 감가상각비상당액을 뺀 것을 말한다.'\n",
    "text = '「장애인복지법」에 따라 등록된 시각ㆍ청각장애인이 생활하는 가정의 수상기'\n",
    "input_ids = tokenizer.encode(text)\n",
    "input_ids = torch.tensor(input_ids)\n",
    "input_ids = input_ids.unsqueeze(0).to(DEVICE)\n",
    "print(input_ids)\n",
    "print('input_ids'+'='*20)\n",
    "output = model.generate(input_ids, eos_token_id=1, max_length=512, num_beams=5).to(DEVICE)\n",
    "print(output)\n",
    "print('output-1'+'='*20)\n",
    "output = tokenizer.decode(output[0], skip_special_tokens=True)\n",
    "print(output)\n",
    "print('output-2'+'='*20)"
   ]
  }
 ],
 "metadata": {
  "kernelspec": {
   "display_name": "kobart_py38",
   "language": "python",
   "name": "kobart_py38"
  },
  "language_info": {
   "codemirror_mode": {
    "name": "ipython",
    "version": 3
   },
   "file_extension": ".py",
   "mimetype": "text/x-python",
   "name": "python",
   "nbconvert_exporter": "python",
   "pygments_lexer": "ipython3",
   "version": "3.8.16"
  }
 },
 "nbformat": 4,
 "nbformat_minor": 5
}
