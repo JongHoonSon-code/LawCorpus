{
 "cells": [
  {
   "cell_type": "code",
   "execution_count": null,
   "id": "0764b7d1-f847-4651-8292-0f29b0138436",
   "metadata": {},
   "outputs": [],
   "source": [
    "from torch.utils.data import Dataset, DataLoader"
   ]
  },
  {
   "cell_type": "code",
   "execution_count": 2,
   "id": "da41d0c6-570a-4be4-82df-856784ea0677",
   "metadata": {},
   "outputs": [
    {
     "ename": "NameError",
     "evalue": "name 'Dataset' is not defined",
     "output_type": "error",
     "traceback": [
      "\u001b[0;31m---------------------------------------------------------------------------\u001b[0m",
      "\u001b[0;31mNameError\u001b[0m                                 Traceback (most recent call last)",
      "Input \u001b[0;32mIn [2]\u001b[0m, in \u001b[0;36m<cell line: 1>\u001b[0;34m()\u001b[0m\n\u001b[0;32m----> 1\u001b[0m \u001b[38;5;28;01mclass\u001b[39;00m \u001b[38;5;21;01mMTDataset\u001b[39;00m(\u001b[43mDataset\u001b[49m):\n\u001b[1;32m      2\u001b[0m     \u001b[38;5;66;03m# pytorch로 데이터를 불러오기 위해서 Dataset 클래스를 상속받아 새로운 클래스를 만듭니다.\u001b[39;00m\n\u001b[1;32m      3\u001b[0m     \u001b[38;5;66;03m#def __init__(self, data_pairs, cn_dic, kor_dic, max_len):\u001b[39;00m\n\u001b[1;32m      4\u001b[0m     \u001b[38;5;28;01mdef\u001b[39;00m \u001b[38;5;21m__init__\u001b[39m(\u001b[38;5;28mself\u001b[39m, data_pairs):\n\u001b[1;32m      5\u001b[0m         \u001b[38;5;28msuper\u001b[39m(MTDataset, \u001b[38;5;28mself\u001b[39m)\u001b[38;5;241m.\u001b[39m\u001b[38;5;21m__init__\u001b[39m()\n",
      "\u001b[0;31mNameError\u001b[0m: name 'Dataset' is not defined"
     ]
    }
   ],
   "source": [
    "class MTDataset(Dataset):\n",
    "    # pytorch로 데이터를 불러오기 위해서 Dataset 클래스를 상속받아 새로운 클래스를 만듭니다.\n",
    "    #def __init__(self, data_pairs, cn_dic, kor_dic, max_len):\n",
    "    def __init__(self, data_pairs):\n",
    "        super(MTDataset, self).__init__()\n",
    "\n",
    "        # 데이터를 파일로부터 읽어 이를 전달 받습니다.\n",
    "        self.pair_data = list()\n",
    "\n",
    "        # 데이터 내 문장을 미리 정의한 사전에 기반하여 tensor로 바꿉니다.\n",
    "        for line in data_pairs:\n",
    "            sentences = line.replace('\\n', '').split('\\t')\n",
    "            if len(sentences) > 2:\n",
    "                print(line)\n",
    "            elif len(sentences) == 1:\n",
    "                print(line)\n",
    "            else:\n",
    "                ko_sen = sentences[0]\n",
    "                en_sen = sentences[1]\n",
    "            #cn_sen, kor_sen = line.replace('\\n', '').split('\\t')\n",
    "            \n",
    "            #cn_sen_words, cn_sen_len = cn_dic.sentence2tensor(cn_sen, max_len)\n",
    "            #kor_sen_words, kor_sen_len = kor_dic.sentence2tensor(kor_sen, max_len)\n",
    "            #self.pair_data.append((cn_sen_words, cn_sen_len, kor_sen_words, kor_sen_len))\n",
    "            self.pair_data.append((ko_sen, en_sen))\n",
    "\n",
    "        self.data_len = len(self.pair_data)\n",
    "\n",
    "    def __getitem__(self, idx):\n",
    "        # idx번째 데이터를 반환합니다.\n",
    "        ko_sen, en_sen = self.pair_data[idx]\n",
    "\n",
    "        return ko_sen, en_sen\n",
    "\n",
    "    def __len__(self):\n",
    "        return self.data_len"
   ]
  }
 ],
 "metadata": {
  "kernelspec": {
   "display_name": "torch109_py38",
   "language": "python",
   "name": "torch109_py38"
  },
  "language_info": {
   "codemirror_mode": {
    "name": "ipython",
    "version": 3
   },
   "file_extension": ".py",
   "mimetype": "text/x-python",
   "name": "python",
   "nbconvert_exporter": "python",
   "pygments_lexer": "ipython3",
   "version": "3.8.13"
  }
 },
 "nbformat": 4,
 "nbformat_minor": 5
}
