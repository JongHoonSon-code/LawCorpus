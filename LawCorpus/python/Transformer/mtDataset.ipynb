{
  "cells": [
    {
      "cell_type": "code",
      "execution_count": 1,
      "id": "0764b7d1-f847-4651-8292-0f29b0138436",
      "metadata": {},
      "outputs": [
        {
          "name": "stderr",
          "output_type": "stream",
          "text": [
            "/usr/anaconda3/envs/torch109_py38/lib/python3.8/site-packages/tqdm/auto.py:22: TqdmWarning: IProgress not found. Please update jupyter and ipywidgets. See https://ipywidgets.readthedocs.io/en/stable/user_install.html\n",
            "  from .autonotebook import tqdm as notebook_tqdm\n"
          ]
        }
      ],
      "source": [
        "from torch.utils.data import Dataset, DataLoader"
      ]
    },
    {
      "cell_type": "code",
      "execution_count": 2,
      "id": "da41d0c6-570a-4be4-82df-856784ea0677",
      "metadata": {
        "tags": []
      },
      "outputs": [],
      "source": [
        "class MTDataset(Dataset):\n",
        "    # pytorch로 데이터를 불러오기 위해서 Dataset 클래스를 상속받아 새로운 클래스를 생성합니다.\n",
        "    def __init__(self, data_pairs):\n",
        "        super(MTDataset, self).__init__()\n",
        "\n",
        "        # 데이터를 파일로부터 읽어 이를 전달 받습니다.\n",
        "        self.pair_data = list()\n",
        "\n",
        "        # 데이터 내 문장을 미리 정의한 사전에 기반하여 tensor로 바꿉니다.\n",
        "        for line in data_pairs:\n",
        "            sentences = line.replace('\\n', '').split('\\t')\n",
        "            if len(sentences) > 2:\n",
        "                print(line)\n",
        "            elif len(sentences) == 1:\n",
        "                print(line)\n",
        "            else:\n",
        "                ko_sen = sentences[0]\n",
        "                en_sen = sentences[1]\n",
        "            self.pair_data.append((ko_sen, en_sen))\n",
        "\n",
        "        self.data_len = len(self.pair_data)\n",
        "\n",
        "    def __getitem__(self, idx):\n",
        "        # idx번째 데이터를 반환합니다.\n",
        "        ko_sen, en_sen = self.pair_data[idx]\n",
        "\n",
        "        return ko_sen, en_sen\n",
        "\n",
        "    def __len__(self):\n",
        "        return self.data_len"
      ]
    }
  ],
  "metadata": {
    "kernelspec": {
      "display_name": "torch109_py38",
      "language": "python",
      "name": "torch109_py38"
    },
    "language_info": {
      "codemirror_mode": {
        "name": "ipython",
        "version": 3
      },
      "file_extension": ".py",
      "mimetype": "text/x-python",
      "name": "python",
      "nbconvert_exporter": "python",
      "pygments_lexer": "ipython3",
      "version": "3.8.13"
    }
  },
  "nbformat": 4,
  "nbformat_minor": 5
}
