{
  "cells": [
    {
      "cell_type": "code",
      "execution_count": 1,
      "id": "91b8fc5c-6d59-49c3-8c88-6c25b41c77ec",
      "metadata": {},
      "outputs": [],
      "source": [
        "def load_file(dataset_path):\n",
        "    # 데이터를 읽는 함수입니다.\n",
        "    data_pairs = list()\n",
        "    # 데이터 파일의 내용을 불러와 소스 문장과 번역 문장을 모아 리스트에 넣습니다.\n",
        "    f = open(dataset_path,\"rt\", encoding='UTF-8')\n",
        "    for sentence in f:\n",
        "        data_pairs.append(sentence)    \n",
        "    f.close()\n",
        "\n",
        "    return data_pairs\n",
        "\n",
        "def write_file(file_path, text):\n",
        "    # 데이터를 쓰는 함수입니다.\n",
        "    f = open(file_path, 'a', encoding='UTF-8') \n",
        "    f.write(f\"{text}\\r\\n\")\n",
        "    f.close()\n",
        "\n",
        "\n",
        "def make_iter(dataset_path):\n",
        "    # 파일을 불러와 리스트로 만들고, generator 형식으로 리턴\n",
        "    data_pairs = load_file(dataset_path)\n",
        "    lst = []\n",
        "    for line in data_pairs:\n",
        "        lst.append((line.split('\\t')))\n",
        "            \n",
        "    yield from lst"
      ]
    }
  ],
  "metadata": {
    "kernelspec": {
      "display_name": "torch109_py38",
      "language": "python",
      "name": "torch109_py38"
    },
    "language_info": {
      "codemirror_mode": {
        "name": "ipython",
        "version": 3
      },
      "file_extension": ".py",
      "mimetype": "text/x-python",
      "name": "python",
      "nbconvert_exporter": "python",
      "pygments_lexer": "ipython3",
      "version": "3.8.13"
    }
  },
  "nbformat": 4,
  "nbformat_minor": 5
}
